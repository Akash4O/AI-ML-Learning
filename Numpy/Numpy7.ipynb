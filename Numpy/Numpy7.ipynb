{
 "cells": [
  {
   "cell_type": "markdown",
   "id": "5e4a731c-2d79-43ff-9364-a8ae6aae24ea",
   "metadata": {},
   "source": [
    "# Sorting Numpy Array"
   ]
  },
  {
   "cell_type": "code",
   "execution_count": 3,
   "id": "3016f6e3-ca68-4c69-8dc7-26550fee2a85",
   "metadata": {},
   "outputs": [],
   "source": [
    "import numpy as np\n",
    "\n",
    "np1 = np.array([6,7,4,9,5,3,1,2,8,12,10,11])"
   ]
  },
  {
   "cell_type": "markdown",
   "id": "fc4b538a-c932-440b-a194-01afb139dbdb",
   "metadata": {},
   "source": [
    "#### Sorting 1-D array"
   ]
  },
  {
   "cell_type": "markdown",
   "id": "a83fc94f-b50c-4c1e-99ce-16ea47bc7616",
   "metadata": {},
   "source": [
    "**Numerically:**"
   ]
  },
  {
   "cell_type": "code",
   "execution_count": 4,
   "id": "bb35510f-a488-4fb0-9ce6-278f9e056815",
   "metadata": {},
   "outputs": [
    {
     "data": {
      "text/plain": [
       "array([ 1,  2,  3,  4,  5,  6,  7,  8,  9, 10, 11, 12])"
      ]
     },
     "execution_count": 4,
     "metadata": {},
     "output_type": "execute_result"
    }
   ],
   "source": [
    "np.sort(np1)"
   ]
  },
  {
   "cell_type": "markdown",
   "id": "6c6be437-8102-4ccb-9c4c-01b62acfc103",
   "metadata": {},
   "source": [
    "**Aplhabetically:**"
   ]
  },
  {
   "cell_type": "code",
   "execution_count": 5,
   "id": "484ddb8d-c710-443f-a219-c4c44f3f84c7",
   "metadata": {},
   "outputs": [
    {
     "data": {
      "text/plain": [
       "array(['A', 'D', 'M', 'Q', 'R', 'V'], dtype='<U1')"
      ]
     },
     "execution_count": 5,
     "metadata": {},
     "output_type": "execute_result"
    }
   ],
   "source": [
    "np2 = np.array([\"A\",\"D\",\"V\",\"R\",\"Q\",\"M\"])\n",
    "\n",
    "np.sort(np2)"
   ]
  },
  {
   "cell_type": "markdown",
   "id": "9a619782-f9f2-4be8-83f4-298ad08f87b3",
   "metadata": {},
   "source": [
    "**Booleans T/F:**"
   ]
  },
  {
   "cell_type": "code",
   "execution_count": 6,
   "id": "0294f70d-7b06-43c2-8331-87f39674a856",
   "metadata": {},
   "outputs": [
    {
     "data": {
      "text/plain": [
       "array([False, False,  True,  True])"
      ]
     },
     "execution_count": 6,
     "metadata": {},
     "output_type": "execute_result"
    }
   ],
   "source": [
    "np3 = np.array([True,False,False,True])\n",
    "\n",
    "np.sort(np3)"
   ]
  },
  {
   "cell_type": "markdown",
   "id": "1e95ceda-d44c-4470-9a17-5a26defe5ea6",
   "metadata": {},
   "source": [
    "**The Sort uses Copy of Numpy Array not A Numpy View**"
   ]
  },
  {
   "cell_type": "markdown",
   "id": "e7227c1d-69f8-4292-b660-e35aaa22d877",
   "metadata": {},
   "source": [
    "### Sorting 2-D array"
   ]
  },
  {
   "cell_type": "code",
   "execution_count": 7,
   "id": "559bc44f-a954-48d5-bde2-0be171c8dda9",
   "metadata": {},
   "outputs": [
    {
     "data": {
      "text/plain": [
       "array([[ 6,  7,  4,  9],\n",
       "       [ 5,  3,  1,  2],\n",
       "       [ 8, 12, 10, 11]])"
      ]
     },
     "execution_count": 7,
     "metadata": {},
     "output_type": "execute_result"
    }
   ],
   "source": [
    "np2 = np1.reshape(3,4)\n",
    "\n",
    "np2"
   ]
  },
  {
   "cell_type": "code",
   "execution_count": 9,
   "id": "98595a17-23a4-4394-b28d-daf1b0d9b750",
   "metadata": {},
   "outputs": [
    {
     "data": {
      "text/plain": [
       "array([[ 4,  6,  7,  9],\n",
       "       [ 1,  2,  3,  5],\n",
       "       [ 8, 10, 11, 12]])"
      ]
     },
     "execution_count": 9,
     "metadata": {},
     "output_type": "execute_result"
    }
   ],
   "source": [
    "np.sort(np2)"
   ]
  },
  {
   "cell_type": "markdown",
   "id": "6c962dc7-c5d1-45f3-95fa-6baedff6c9d5",
   "metadata": {},
   "source": [
    "**In 2-D array the sorting is done only rowise**"
   ]
  },
  {
   "cell_type": "code",
   "execution_count": null,
   "id": "167685b9-3ab9-4e56-a4ee-3c41eb7a7f4d",
   "metadata": {},
   "outputs": [],
   "source": []
  }
 ],
 "metadata": {
  "kernelspec": {
   "display_name": "Python 3 (ipykernel)",
   "language": "python",
   "name": "python3"
  },
  "language_info": {
   "codemirror_mode": {
    "name": "ipython",
    "version": 3
   },
   "file_extension": ".py",
   "mimetype": "text/x-python",
   "name": "python",
   "nbconvert_exporter": "python",
   "pygments_lexer": "ipython3",
   "version": "3.12.5"
  }
 },
 "nbformat": 4,
 "nbformat_minor": 5
}
