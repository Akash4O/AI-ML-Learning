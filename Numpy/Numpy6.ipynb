{
 "cells": [
  {
   "cell_type": "markdown",
   "id": "1d620d00-034b-4757-adbd-078c988d7d42",
   "metadata": {},
   "source": [
    "# Iterating Through Numpy Arrays"
   ]
  },
  {
   "cell_type": "markdown",
   "id": "1d65f3df-3039-4b47-94f6-153f379107b8",
   "metadata": {},
   "source": [
    "#### Iterating through 1-D array"
   ]
  },
  {
   "cell_type": "code",
   "execution_count": 1,
   "id": "e17be829-6b7b-4fdf-a22b-66648f3153e2",
   "metadata": {},
   "outputs": [],
   "source": [
    "import numpy as np"
   ]
  },
  {
   "cell_type": "code",
   "execution_count": 5,
   "id": "b34bcf30-c85e-4639-89cb-9a005d372a4a",
   "metadata": {},
   "outputs": [
    {
     "name": "stdout",
     "output_type": "stream",
     "text": [
      "1\n",
      "2\n",
      "3\n",
      "4\n",
      "5\n",
      "6\n",
      "7\n",
      "8\n",
      "9\n",
      "10\n",
      "11\n",
      "12\n"
     ]
    }
   ],
   "source": [
    "np1=np.array([1,2,3,4,5,6,7,8,9,10,11,12])\n",
    "\n",
    "for x in np1:\n",
    "    print(x)"
   ]
  },
  {
   "cell_type": "markdown",
   "id": "22de6020-e04f-4a90-b71c-4606e053335e",
   "metadata": {},
   "source": [
    "**Iterating through 2-D array**"
   ]
  },
  {
   "cell_type": "code",
   "execution_count": 8,
   "id": "50b37b85-c0dc-4fea-ab0a-d276e890cde6",
   "metadata": {},
   "outputs": [
    {
     "name": "stdout",
     "output_type": "stream",
     "text": [
      "1\n",
      "2\n",
      "3\n",
      "4\n",
      "5\n",
      "6\n",
      "7\n",
      "8\n",
      "9\n",
      "10\n",
      "11\n",
      "12\n"
     ]
    }
   ],
   "source": [
    "np2=np1.reshape(3,4)\n",
    "\n",
    "for x in np2:\n",
    "    #inside the each rows\n",
    "    for y in x:\n",
    "        #inside the row each elements\n",
    "        print(y)"
   ]
  },
  {
   "cell_type": "markdown",
   "id": "4b8ac420-3228-4baa-82c6-fde1b64c2dbb",
   "metadata": {},
   "source": [
    "**Iterating through 3-D array**"
   ]
  },
  {
   "cell_type": "code",
   "execution_count": 10,
   "id": "010d58a8-0d2b-4eeb-812f-804903a6c4e7",
   "metadata": {},
   "outputs": [
    {
     "data": {
      "text/plain": [
       "array([[[ 1,  2],\n",
       "        [ 3,  4],\n",
       "        [ 5,  6]],\n",
       "\n",
       "       [[ 7,  8],\n",
       "        [ 9, 10],\n",
       "        [11, 12]]])"
      ]
     },
     "execution_count": 10,
     "metadata": {},
     "output_type": "execute_result"
    }
   ],
   "source": [
    "np3=np2.reshape(2,3,2)\n",
    "\n",
    "np3"
   ]
  },
  {
   "cell_type": "code",
   "execution_count": 13,
   "id": "37701990-abaa-460b-9292-8aafdd2dba96",
   "metadata": {},
   "outputs": [
    {
     "name": "stdout",
     "output_type": "stream",
     "text": [
      "1\n",
      "2\n",
      "3\n",
      "4\n",
      "5\n",
      "6\n",
      "7\n",
      "8\n",
      "9\n",
      "10\n",
      "11\n",
      "12\n"
     ]
    }
   ],
   "source": [
    "for x in np3:\n",
    "    #in each matrices\n",
    "    for y in x:\n",
    "        #in each rows of matrices\n",
    "        for z in y:\n",
    "            #in each elements of the rows of matrices\n",
    "            print(z)"
   ]
  },
  {
   "cell_type": "markdown",
   "id": "12cfb6dd-9019-470f-a34f-3364358d1525",
   "metadata": {},
   "source": [
    "**Using nditer() function:**"
   ]
  },
  {
   "cell_type": "code",
   "execution_count": 14,
   "id": "7e8e5600-8b5e-43cc-a02e-40629a64084a",
   "metadata": {},
   "outputs": [
    {
     "name": "stdout",
     "output_type": "stream",
     "text": [
      "1\n",
      "2\n",
      "3\n",
      "4\n",
      "5\n",
      "6\n",
      "7\n",
      "8\n",
      "9\n",
      "10\n",
      "11\n",
      "12\n"
     ]
    }
   ],
   "source": [
    "for x in np.nditer(np3):\n",
    "    print(x)"
   ]
  },
  {
   "cell_type": "markdown",
   "id": "c40fb95a-43a5-4f11-8c36-65e98869b5e0",
   "metadata": {},
   "source": [
    "np.nditer() is used to print the basic level values of any n-D array"
   ]
  },
  {
   "cell_type": "code",
   "execution_count": null,
   "id": "ffbe6132-b436-48c9-9795-dda42d0e391a",
   "metadata": {},
   "outputs": [],
   "source": []
  }
 ],
 "metadata": {
  "kernelspec": {
   "display_name": "Python 3 (ipykernel)",
   "language": "python",
   "name": "python3"
  },
  "language_info": {
   "codemirror_mode": {
    "name": "ipython",
    "version": 3
   },
   "file_extension": ".py",
   "mimetype": "text/x-python",
   "name": "python",
   "nbconvert_exporter": "python",
   "pygments_lexer": "ipython3",
   "version": "3.12.5"
  }
 },
 "nbformat": 4,
 "nbformat_minor": 5
}
