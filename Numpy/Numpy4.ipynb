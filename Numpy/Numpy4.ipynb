{
 "cells": [
  {
   "cell_type": "markdown",
   "id": "27f91bfc-b0ff-4a10-ad35-97633aeef2af",
   "metadata": {},
   "source": [
    "# Numpy Copy VS View"
   ]
  },
  {
   "cell_type": "markdown",
   "id": "c34870f0-cca0-461e-b68a-1f6334637e5b",
   "metadata": {},
   "source": [
    "### Numpy Array View"
   ]
  },
  {
   "cell_type": "code",
   "execution_count": 1,
   "id": "7a4bf8bd-764c-44e7-8252-7b4d1ea56cee",
   "metadata": {},
   "outputs": [],
   "source": [
    "import numpy as np"
   ]
  },
  {
   "cell_type": "code",
   "execution_count": 7,
   "id": "12de7bf2-f933-4411-8754-e10014fc3694",
   "metadata": {},
   "outputs": [],
   "source": [
    "np1 = np.array([0,1,2,3,4,5,6,7,8,9])\n",
    "\n",
    "np2 = np1.view()"
   ]
  },
  {
   "cell_type": "code",
   "execution_count": 8,
   "id": "8651c7e6-c19b-4edb-9367-15f9f1301440",
   "metadata": {},
   "outputs": [
    {
     "name": "stdout",
     "output_type": "stream",
     "text": [
      "Original NP1 [0 1 2 3 4 5 6 7 8 9]\n",
      "Original NP2 [0 1 2 3 4 5 6 7 8 9]\n"
     ]
    }
   ],
   "source": [
    "print(f'Original NP1 {np1}')\n",
    "print(f'Original NP2 {np2}')"
   ]
  },
  {
   "cell_type": "code",
   "execution_count": 9,
   "id": "cc49a268-0e67-4a92-bcaa-0879d473df87",
   "metadata": {},
   "outputs": [],
   "source": [
    "np1[0]=41"
   ]
  },
  {
   "cell_type": "code",
   "execution_count": 10,
   "id": "c9070ced-e2a8-456b-91f0-7a6dd1d23306",
   "metadata": {},
   "outputs": [
    {
     "name": "stdout",
     "output_type": "stream",
     "text": [
      "Changed NP1 [41  1  2  3  4  5  6  7  8  9]\n",
      "Original NP2 [41  1  2  3  4  5  6  7  8  9]\n"
     ]
    }
   ],
   "source": [
    "print(f'Changed NP1 {np1}')\n",
    "print(f'Original NP2 {np2}')"
   ]
  },
  {
   "cell_type": "markdown",
   "id": "efc51f83-6060-40f9-837a-fe0dc06c9a05",
   "metadata": {},
   "source": [
    "**View : it creates a copy of array and change in array also changes the values in the View , It is still created to the original array**\n",
    "\n",
    "**Change in view also effects the original array**"
   ]
  },
  {
   "cell_type": "markdown",
   "id": "3c98719c-37bf-4cca-b630-d27884c6e0b2",
   "metadata": {},
   "source": [
    "### Numpy Array Copy"
   ]
  },
  {
   "cell_type": "code",
   "execution_count": 11,
   "id": "70a9fc49-00fb-4f76-8d5f-f0734064d682",
   "metadata": {},
   "outputs": [],
   "source": [
    "np3 = np1.copy()"
   ]
  },
  {
   "cell_type": "code",
   "execution_count": 14,
   "id": "36aa509d-5720-4f60-8956-3058a107ecf6",
   "metadata": {},
   "outputs": [
    {
     "name": "stdout",
     "output_type": "stream",
     "text": [
      "Original NP1 [41 42  2  3  4  5  6  7  8  9]\n",
      "Original NP3 [41  1  2  3  4  5  6  7  8  9]\n"
     ]
    }
   ],
   "source": [
    "print(f'Original NP1 {np1}')\n",
    "print(f'Original NP3 {np3}')"
   ]
  },
  {
   "cell_type": "code",
   "execution_count": 13,
   "id": "f5e26470-0d09-4bc2-bd95-dedd521c11f5",
   "metadata": {},
   "outputs": [],
   "source": [
    "np1[1]=42"
   ]
  },
  {
   "cell_type": "code",
   "execution_count": 16,
   "id": "6c066fa7-f7a2-4011-8104-c618b9c7408d",
   "metadata": {},
   "outputs": [
    {
     "name": "stdout",
     "output_type": "stream",
     "text": [
      "Changed NP1 [41 42  2  3  4  5  6  7  8  9]\n",
      "Original NP3 [41  1  2  3  4  5  6  7  8  9]\n"
     ]
    }
   ],
   "source": [
    "print(f'Changed NP1 {np1}')\n",
    "print(f'Original NP3 {np3}')"
   ]
  },
  {
   "cell_type": "markdown",
   "id": "956dad8d-e10e-4fe5-b8b1-331accbd5d45",
   "metadata": {},
   "source": [
    "**Copy: it creates a copy of array and change in original array doesn't effects it**"
   ]
  },
  {
   "cell_type": "code",
   "execution_count": null,
   "id": "2ed05e39-9416-426d-9387-6746498e956b",
   "metadata": {},
   "outputs": [],
   "source": []
  }
 ],
 "metadata": {
  "kernelspec": {
   "display_name": "Python 3 (ipykernel)",
   "language": "python",
   "name": "python3"
  },
  "language_info": {
   "codemirror_mode": {
    "name": "ipython",
    "version": 3
   },
   "file_extension": ".py",
   "mimetype": "text/x-python",
   "name": "python",
   "nbconvert_exporter": "python",
   "pygments_lexer": "ipython3",
   "version": "3.12.5"
  }
 },
 "nbformat": 4,
 "nbformat_minor": 5
}
