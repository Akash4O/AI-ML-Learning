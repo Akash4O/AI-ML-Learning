{
 "cells": [
  {
   "cell_type": "markdown",
   "id": "725c584d-3af5-48d3-8d13-a20acd6b1f95",
   "metadata": {},
   "source": [
    "## Numpy Universal Functions"
   ]
  },
  {
   "cell_type": "code",
   "execution_count": 1,
   "id": "8c6c3589-307b-4121-8515-8f0598a9f57e",
   "metadata": {},
   "outputs": [],
   "source": [
    "import numpy as np"
   ]
  },
  {
   "cell_type": "code",
   "execution_count": 2,
   "id": "458ee3d6-3e77-436d-b4da-31cc925436ca",
   "metadata": {},
   "outputs": [
    {
     "data": {
      "text/plain": [
       "array([-3, -2, -1,  0,  1,  2,  3,  4,  5,  6,  7,  8,  9])"
      ]
     },
     "execution_count": 2,
     "metadata": {},
     "output_type": "execute_result"
    }
   ],
   "source": [
    "np1 = np.array([-3,-2,-1,0,1,2,3,4,5,6,7,8,9])\n",
    "\n",
    "np1"
   ]
  },
  {
   "cell_type": "markdown",
   "id": "4146b4c0-3fbd-4aac-901e-42e5d23d2352",
   "metadata": {},
   "source": [
    "**1. Square Root :**"
   ]
  },
  {
   "cell_type": "code",
   "execution_count": 4,
   "id": "4a2895a5-a16a-4665-9ad0-f13854bf8d25",
   "metadata": {},
   "outputs": [
    {
     "data": {
      "text/plain": [
       "array([1.        , 1.41421356, 1.73205081, 2.        , 2.23606798,\n",
       "       2.44948974, 2.64575131, 2.82842712, 3.        ])"
      ]
     },
     "execution_count": 4,
     "metadata": {},
     "output_type": "execute_result"
    }
   ],
   "source": [
    "np.sqrt(np1[4:])"
   ]
  },
  {
   "cell_type": "markdown",
   "id": "693f6b91-9d06-4163-b1dd-0b574cd20b45",
   "metadata": {},
   "source": [
    "**2. Absolute Value :**"
   ]
  },
  {
   "cell_type": "code",
   "execution_count": 5,
   "id": "92874f98-49b9-42bd-9527-4263d365a9ae",
   "metadata": {},
   "outputs": [
    {
     "data": {
      "text/plain": [
       "array([3, 2, 1, 0, 1, 2, 3, 4, 5, 6, 7, 8, 9])"
      ]
     },
     "execution_count": 5,
     "metadata": {},
     "output_type": "execute_result"
    }
   ],
   "source": [
    "# Converts negative value into Positive\n",
    "np.absolute(np1)"
   ]
  },
  {
   "cell_type": "markdown",
   "id": "6914abf4-a380-4eb8-80a8-2aeee2516c46",
   "metadata": {},
   "source": [
    "**3. Exponential Value :**"
   ]
  },
  {
   "cell_type": "code",
   "execution_count": 6,
   "id": "6ff9b345-309c-4b14-8bdd-33e04da5c4ea",
   "metadata": {},
   "outputs": [
    {
     "data": {
      "text/plain": [
       "array([4.97870684e-02, 1.35335283e-01, 3.67879441e-01, 1.00000000e+00,\n",
       "       2.71828183e+00, 7.38905610e+00, 2.00855369e+01, 5.45981500e+01,\n",
       "       1.48413159e+02, 4.03428793e+02, 1.09663316e+03, 2.98095799e+03,\n",
       "       8.10308393e+03])"
      ]
     },
     "execution_count": 6,
     "metadata": {},
     "output_type": "execute_result"
    }
   ],
   "source": [
    "np.exp(np1)"
   ]
  },
  {
   "cell_type": "markdown",
   "id": "d16fed61-d2b3-4075-a67d-223cb9f3c15b",
   "metadata": {},
   "source": [
    "**4. Min/Max Value :**"
   ]
  },
  {
   "cell_type": "code",
   "execution_count": 7,
   "id": "feee43f5-e760-443b-8a9b-0dfd07607458",
   "metadata": {},
   "outputs": [
    {
     "data": {
      "text/plain": [
       "-3"
      ]
     },
     "execution_count": 7,
     "metadata": {},
     "output_type": "execute_result"
    }
   ],
   "source": [
    "np.min(np1)"
   ]
  },
  {
   "cell_type": "code",
   "execution_count": 8,
   "id": "8a3a0cf9-16a8-4246-9cd5-65d55694f264",
   "metadata": {},
   "outputs": [
    {
     "data": {
      "text/plain": [
       "9"
      ]
     },
     "execution_count": 8,
     "metadata": {},
     "output_type": "execute_result"
    }
   ],
   "source": [
    "np.max(np1)"
   ]
  },
  {
   "cell_type": "markdown",
   "id": "80571369-2150-4065-a155-cdc9c63149bd",
   "metadata": {},
   "source": [
    "**5. Sign Negative Or Positive :**"
   ]
  },
  {
   "cell_type": "code",
   "execution_count": 9,
   "id": "1173397f-49e0-4738-87c6-ce81220bcc2b",
   "metadata": {},
   "outputs": [
    {
     "data": {
      "text/plain": [
       "array([-1, -1, -1,  0,  1,  1,  1,  1,  1,  1,  1,  1,  1])"
      ]
     },
     "execution_count": 9,
     "metadata": {},
     "output_type": "execute_result"
    }
   ],
   "source": [
    "# puts -1 in place of negative values and 1 in place of positiv value\n",
    "np.sign(np1)"
   ]
  },
  {
   "cell_type": "markdown",
   "id": "8cf6c167-7d36-49ee-b147-f632f68d5097",
   "metadata": {},
   "source": [
    "**6. Trignomatric functions**"
   ]
  },
  {
   "cell_type": "code",
   "execution_count": 10,
   "id": "1da0d651-0af1-4b51-b9d3-8b7c94b5aff1",
   "metadata": {},
   "outputs": [
    {
     "data": {
      "text/plain": [
       "array([-0.14112001, -0.90929743, -0.84147098,  0.        ,  0.84147098,\n",
       "        0.90929743,  0.14112001, -0.7568025 , -0.95892427, -0.2794155 ,\n",
       "        0.6569866 ,  0.98935825,  0.41211849])"
      ]
     },
     "execution_count": 10,
     "metadata": {},
     "output_type": "execute_result"
    }
   ],
   "source": [
    "#sin :\n",
    "np.sin(np1)"
   ]
  },
  {
   "cell_type": "code",
   "execution_count": 11,
   "id": "43d01474-6513-40b9-ad36-24060baef7e1",
   "metadata": {},
   "outputs": [
    {
     "data": {
      "text/plain": [
       "array([-0.9899925 , -0.41614684,  0.54030231,  1.        ,  0.54030231,\n",
       "       -0.41614684, -0.9899925 , -0.65364362,  0.28366219,  0.96017029,\n",
       "        0.75390225, -0.14550003, -0.91113026])"
      ]
     },
     "execution_count": 11,
     "metadata": {},
     "output_type": "execute_result"
    }
   ],
   "source": [
    "#cos:\n",
    "np.cos(np1)"
   ]
  },
  {
   "cell_type": "code",
   "execution_count": 14,
   "id": "76c8893c-3b58-4c5a-973e-a68bbfc281a1",
   "metadata": {},
   "outputs": [
    {
     "data": {
      "text/plain": [
       "array([0.        , 0.69314718, 1.09861229, 1.38629436, 1.60943791,\n",
       "       1.79175947, 1.94591015, 2.07944154, 2.19722458])"
      ]
     },
     "execution_count": 14,
     "metadata": {},
     "output_type": "execute_result"
    }
   ],
   "source": [
    "#log:\n",
    "np.log(np1[4:])"
   ]
  },
  {
   "cell_type": "code",
   "execution_count": null,
   "id": "8802c666-2041-4589-842d-ae74df5622d5",
   "metadata": {},
   "outputs": [],
   "source": []
  }
 ],
 "metadata": {
  "kernelspec": {
   "display_name": "Python 3 (ipykernel)",
   "language": "python",
   "name": "python3"
  },
  "language_info": {
   "codemirror_mode": {
    "name": "ipython",
    "version": 3
   },
   "file_extension": ".py",
   "mimetype": "text/x-python",
   "name": "python",
   "nbconvert_exporter": "python",
   "pygments_lexer": "ipython3",
   "version": "3.12.5"
  }
 },
 "nbformat": 4,
 "nbformat_minor": 5
}
