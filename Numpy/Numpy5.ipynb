{
 "cells": [
  {
   "cell_type": "markdown",
   "id": "ab6e8f4b-eaab-4b63-91c8-08dba56ac0a4",
   "metadata": {},
   "source": [
    "# Shape and Reshape in Numpy Array"
   ]
  },
  {
   "cell_type": "markdown",
   "id": "98a06db9-fdb8-4b8f-83ff-a6797d078853",
   "metadata": {},
   "source": [
    "**Create 1-D Numpy Array And Get Shape**"
   ]
  },
  {
   "cell_type": "code",
   "execution_count": 2,
   "id": "2b2f3120-1358-4637-95b8-3dac073e053e",
   "metadata": {},
   "outputs": [
    {
     "data": {
      "text/plain": [
       "(12,)"
      ]
     },
     "execution_count": 2,
     "metadata": {},
     "output_type": "execute_result"
    }
   ],
   "source": [
    "import numpy as np\n",
    "\n",
    "np1 = np.array([1,2,3,4,5,6,7,8,9,10,11,12])\n",
    "\n",
    "np1.shape"
   ]
  },
  {
   "cell_type": "markdown",
   "id": "63d994a1-485e-4319-993a-0e1bd18bb5b3",
   "metadata": {},
   "source": [
    "**Create 2-D Numpy Array and Get Shape**"
   ]
  },
  {
   "cell_type": "code",
   "execution_count": 5,
   "id": "80326a35-72c5-4668-bec0-afe006e4ad2a",
   "metadata": {},
   "outputs": [
    {
     "data": {
      "text/plain": [
       "(2, 6)"
      ]
     },
     "execution_count": 5,
     "metadata": {},
     "output_type": "execute_result"
    }
   ],
   "source": [
    "np2 = np.array([[1,2,3,4,5,6],[7,8,9,10,11,12]])#2 rows,6cols\n",
    "\n",
    "np2.shape"
   ]
  },
  {
   "cell_type": "markdown",
   "id": "b37a3905-18cb-4e66-8deb-61d4ec87c83a",
   "metadata": {},
   "source": [
    "#### Reshape Array"
   ]
  },
  {
   "cell_type": "code",
   "execution_count": 6,
   "id": "46b1b4cc-3488-48f0-bffe-baa5d8d42afe",
   "metadata": {},
   "outputs": [
    {
     "data": {
      "text/plain": [
       "array([[ 1,  2,  3,  4],\n",
       "       [ 5,  6,  7,  8],\n",
       "       [ 9, 10, 11, 12]])"
      ]
     },
     "execution_count": 6,
     "metadata": {},
     "output_type": "execute_result"
    }
   ],
   "source": [
    "np3 = np1.reshape(3,4) #Reshaping 12 cols into 3 rows and 4 cols\n",
    "\n",
    "np3"
   ]
  },
  {
   "cell_type": "code",
   "execution_count": 8,
   "id": "31cc829d-b5f5-4f9d-bea7-84031b411ebe",
   "metadata": {},
   "outputs": [
    {
     "data": {
      "text/plain": [
       "array([[[ 1,  2],\n",
       "        [ 3,  4],\n",
       "        [ 5,  6]],\n",
       "\n",
       "       [[ 7,  8],\n",
       "        [ 9, 10],\n",
       "        [11, 12]]])"
      ]
     },
     "execution_count": 8,
     "metadata": {},
     "output_type": "execute_result"
    }
   ],
   "source": [
    "#Reshapin 2-D array into 3-D array\n",
    "np4=np2.reshape(2,3,2)\n",
    "\n",
    "np4"
   ]
  },
  {
   "cell_type": "markdown",
   "id": "e588025a-2f28-471e-8be7-91162ccee339",
   "metadata": {},
   "source": [
    "**Flatten a numpy array**"
   ]
  },
  {
   "cell_type": "code",
   "execution_count": 9,
   "id": "f766c66f-65fd-4e69-82b5-db504acae09c",
   "metadata": {},
   "outputs": [
    {
     "name": "stdout",
     "output_type": "stream",
     "text": [
      "[ 1  2  3  4  5  6  7  8  9 10 11 12]\n",
      "(12,)\n"
     ]
    }
   ],
   "source": [
    "np5=np4.reshape(-1)\n",
    "print(np5)\n",
    "print(np5.shape)"
   ]
  },
  {
   "cell_type": "code",
   "execution_count": null,
   "id": "5590d1d4-ebc5-4c54-aa9f-c5ea136bc5cb",
   "metadata": {},
   "outputs": [],
   "source": []
  }
 ],
 "metadata": {
  "kernelspec": {
   "display_name": "Python 3 (ipykernel)",
   "language": "python",
   "name": "python3"
  },
  "language_info": {
   "codemirror_mode": {
    "name": "ipython",
    "version": 3
   },
   "file_extension": ".py",
   "mimetype": "text/x-python",
   "name": "python",
   "nbconvert_exporter": "python",
   "pygments_lexer": "ipython3",
   "version": "3.12.5"
  }
 },
 "nbformat": 4,
 "nbformat_minor": 5
}
