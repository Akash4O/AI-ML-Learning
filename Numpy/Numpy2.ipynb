{
 "cells": [
  {
   "cell_type": "markdown",
   "id": "b7e87aef-8517-4944-a268-bafa8053bb27",
   "metadata": {},
   "source": [
    "# Slicing Numpy Arrays"
   ]
  },
  {
   "cell_type": "code",
   "execution_count": 1,
   "id": "ae4c5195-3946-49ad-9fe5-31bec2359eeb",
   "metadata": {},
   "outputs": [],
   "source": [
    "import numpy as np"
   ]
  },
  {
   "cell_type": "code",
   "execution_count": 2,
   "id": "388ccd3a-f602-4dda-ad86-d1d652bddeaa",
   "metadata": {},
   "outputs": [],
   "source": [
    "np1 = np.array([1,2,3,4,5,6,7,8,9])"
   ]
  },
  {
   "cell_type": "markdown",
   "id": "cae8d7ff-17ad-42c5-a766-72156966f938",
   "metadata": {},
   "source": [
    "**Slicing and Returning The 2,3,4,5**"
   ]
  },
  {
   "cell_type": "code",
   "execution_count": 3,
   "id": "17e762f5-e5bf-462c-8ec3-27c0f964e6d5",
   "metadata": {},
   "outputs": [
    {
     "data": {
      "text/plain": [
       "array([2, 3, 4, 5])"
      ]
     },
     "execution_count": 3,
     "metadata": {},
     "output_type": "execute_result"
    }
   ],
   "source": [
    "np1[1:5]"
   ]
  },
  {
   "cell_type": "markdown",
   "id": "9213f14b-24f9-4133-bc83-dbf975592014",
   "metadata": {},
   "source": [
    "**Slicing Till the end of the array**"
   ]
  },
  {
   "cell_type": "code",
   "execution_count": 4,
   "id": "de4f2729-2ddc-4c5b-b2ac-f35b8fafc6ff",
   "metadata": {},
   "outputs": [
    {
     "data": {
      "text/plain": [
       "array([4, 5, 6, 7, 8, 9])"
      ]
     },
     "execution_count": 4,
     "metadata": {},
     "output_type": "execute_result"
    }
   ],
   "source": [
    "np1[3:]"
   ]
  },
  {
   "cell_type": "markdown",
   "id": "aea2380f-ac56-4cb2-9183-3ee3728ee58d",
   "metadata": {},
   "source": [
    "**Returning Negative Slices**"
   ]
  },
  {
   "cell_type": "code",
   "execution_count": 5,
   "id": "2c81d82f-0753-41db-b6bc-09f4a39b881b",
   "metadata": {},
   "outputs": [
    {
     "name": "stdout",
     "output_type": "stream",
     "text": [
      "[7 8]\n"
     ]
    }
   ],
   "source": [
    "# returning 7,8\n",
    "print(np1[-3:-1])"
   ]
  },
  {
   "cell_type": "code",
   "execution_count": 6,
   "id": "318d1213-d9fb-41e4-b5f3-d94bfe968e06",
   "metadata": {},
   "outputs": [
    {
     "name": "stdout",
     "output_type": "stream",
     "text": [
      "[2 3 4 5]\n",
      "[2 4]\n",
      "[1 3 5 7 9]\n",
      "[1 4 7]\n"
     ]
    }
   ],
   "source": [
    "#steps: by the gap of certain value\n",
    "\n",
    "print(np1[1:5])\n",
    "print(np1[1:5:2])# 2-5 in steeps of 2\n",
    "\n",
    "#steps on the entire array\n",
    "print(np1[::2])\n",
    "print(np1[::3])\n",
    "\n"
   ]
  },
  {
   "cell_type": "markdown",
   "id": "b49720ca-e7d2-4d97-8734-3a55a29ba38e",
   "metadata": {},
   "source": [
    "#### Slicing in 2-D Array"
   ]
  },
  {
   "cell_type": "code",
   "execution_count": 7,
   "id": "6b10662e-fb20-4db3-97f9-ad57acbf8fdc",
   "metadata": {},
   "outputs": [
    {
     "data": {
      "text/plain": [
       "8"
      ]
     },
     "execution_count": 7,
     "metadata": {},
     "output_type": "execute_result"
    }
   ],
   "source": [
    "np2 = np.array([[1,2,3,4,5],[6,7,8,9,10]])\n",
    "\n",
    "# printing the single item: 8\n",
    "np2[1,2]"
   ]
  },
  {
   "cell_type": "markdown",
   "id": "dc2c088e-78c3-4deb-83a4-d8e57bd3d98d",
   "metadata": {},
   "source": [
    "**Slicing a 2-D Array**"
   ]
  },
  {
   "cell_type": "code",
   "execution_count": 8,
   "id": "58a4a4c6-6e17-422f-92d2-45575b3649d3",
   "metadata": {},
   "outputs": [
    {
     "name": "stdout",
     "output_type": "stream",
     "text": [
      "[[3 4 5]]\n"
     ]
    }
   ],
   "source": [
    "#printing 3,4,5\n",
    "print(np2[0:1,2:5])"
   ]
  },
  {
   "cell_type": "code",
   "execution_count": 9,
   "id": "c25728a7-ba43-4bc3-9936-7e5cad043410",
   "metadata": {},
   "outputs": [
    {
     "name": "stdout",
     "output_type": "stream",
     "text": [
      "[[ 3  4  5]\n",
      " [ 8  9 10]]\n"
     ]
    }
   ],
   "source": [
    "#printing from both the rows\n",
    "print(np2[0:2,2:5])"
   ]
  },
  {
   "cell_type": "code",
   "execution_count": null,
   "id": "2f56ba5a-125d-43d7-af66-358a10836f94",
   "metadata": {},
   "outputs": [],
   "source": []
  }
 ],
 "metadata": {
  "kernelspec": {
   "display_name": "Python 3 (ipykernel)",
   "language": "python",
   "name": "python3"
  },
  "language_info": {
   "codemirror_mode": {
    "name": "ipython",
    "version": 3
   },
   "file_extension": ".py",
   "mimetype": "text/x-python",
   "name": "python",
   "nbconvert_exporter": "python",
   "pygments_lexer": "ipython3",
   "version": "3.12.5"
  }
 },
 "nbformat": 4,
 "nbformat_minor": 5
}
