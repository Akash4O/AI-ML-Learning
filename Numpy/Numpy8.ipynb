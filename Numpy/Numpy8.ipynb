{
 "cells": [
  {
   "cell_type": "markdown",
   "id": "12b78c79-a840-4b27-9841-fca208fa7172",
   "metadata": {},
   "source": [
    "# Searching element in the Numpy array"
   ]
  },
  {
   "cell_type": "code",
   "execution_count": 1,
   "id": "84d1dea4-acef-468f-9eaa-63dffa27e096",
   "metadata": {},
   "outputs": [],
   "source": [
    "import numpy as np"
   ]
  },
  {
   "cell_type": "code",
   "execution_count": 2,
   "id": "b721203a-9b2c-4fcb-8b5b-10853d9ccfb6",
   "metadata": {},
   "outputs": [],
   "source": [
    "np1=np.array([1,2,3,4,5,6,7,8,9,10])"
   ]
  },
  {
   "cell_type": "code",
   "execution_count": 3,
   "id": "364fecd9-5d09-4cb6-85e5-5278a3741f09",
   "metadata": {},
   "outputs": [
    {
     "data": {
      "text/plain": [
       "array([ 1,  2,  3,  4,  5,  6,  7,  8,  9, 10])"
      ]
     },
     "execution_count": 3,
     "metadata": {},
     "output_type": "execute_result"
    }
   ],
   "source": [
    "np1"
   ]
  },
  {
   "cell_type": "code",
   "execution_count": 11,
   "id": "6f6dc2ba-a1b3-4f34-af22-7fd3441299f1",
   "metadata": {},
   "outputs": [
    {
     "data": {
      "text/plain": [
       "(array([2], dtype=int64),)"
      ]
     },
     "execution_count": 11,
     "metadata": {},
     "output_type": "execute_result"
    }
   ],
   "source": [
    "x = np.where(np1 == 3)\n",
    "x"
   ]
  },
  {
   "cell_type": "code",
   "execution_count": 5,
   "id": "840c1397-e861-4396-a47f-a3952b4a2711",
   "metadata": {},
   "outputs": [
    {
     "data": {
      "text/plain": [
       "array([2], dtype=int64)"
      ]
     },
     "execution_count": 5,
     "metadata": {},
     "output_type": "execute_result"
    }
   ],
   "source": [
    "x[0]"
   ]
  },
  {
   "cell_type": "code",
   "execution_count": 7,
   "id": "19abe5ec-fac1-4894-8adc-fb9a421e44a6",
   "metadata": {},
   "outputs": [
    {
     "data": {
      "text/plain": [
       "array([2], dtype=int64)"
      ]
     },
     "execution_count": 7,
     "metadata": {},
     "output_type": "execute_result"
    }
   ],
   "source": [
    "x[0]"
   ]
  },
  {
   "cell_type": "code",
   "execution_count": 8,
   "id": "a8176456-04b3-4ac3-92bb-8d0cf2605657",
   "metadata": {},
   "outputs": [
    {
     "data": {
      "text/plain": [
       "array([3])"
      ]
     },
     "execution_count": 8,
     "metadata": {},
     "output_type": "execute_result"
    }
   ],
   "source": [
    "np1[x]"
   ]
  },
  {
   "cell_type": "code",
   "execution_count": 12,
   "id": "84e0b6f1-4827-4968-b10b-a8b2d6e9e92e",
   "metadata": {},
   "outputs": [],
   "source": [
    "y = np.where(np1%2==0)"
   ]
  },
  {
   "cell_type": "code",
   "execution_count": 13,
   "id": "2b8bbaa5-05ce-4692-801a-f2fba8016398",
   "metadata": {},
   "outputs": [
    {
     "data": {
      "text/plain": [
       "array([1, 3, 5, 7, 9], dtype=int64)"
      ]
     },
     "execution_count": 13,
     "metadata": {},
     "output_type": "execute_result"
    }
   ],
   "source": [
    "y[0]"
   ]
  },
  {
   "cell_type": "code",
   "execution_count": 14,
   "id": "482cb223-2240-4ba6-8dc9-2aa093833c3a",
   "metadata": {},
   "outputs": [
    {
     "data": {
      "text/plain": [
       "array([ 2,  4,  6,  8, 10])"
      ]
     },
     "execution_count": 14,
     "metadata": {},
     "output_type": "execute_result"
    }
   ],
   "source": [
    "np1[y[0]]"
   ]
  },
  {
   "cell_type": "code",
   "execution_count": 18,
   "id": "4e3a4b38-de90-46e1-9a57-2bb58e8fba00",
   "metadata": {},
   "outputs": [
    {
     "name": "stdout",
     "output_type": "stream",
     "text": [
      "[ True False  True False  True False  True False  True False]\n",
      "[1 3 5 7 9]\n"
     ]
    }
   ],
   "source": [
    "filtered = np1 % 2 ==1\n",
    "print(filtered)\n",
    "print(np1[filtered])"
   ]
  },
  {
   "cell_type": "code",
   "execution_count": null,
   "id": "2973f9db-07eb-4e4c-9238-a8ff1646dafc",
   "metadata": {},
   "outputs": [],
   "source": []
  }
 ],
 "metadata": {
  "kernelspec": {
   "display_name": "Python 3 (ipykernel)",
   "language": "python",
   "name": "python3"
  },
  "language_info": {
   "codemirror_mode": {
    "name": "ipython",
    "version": 3
   },
   "file_extension": ".py",
   "mimetype": "text/x-python",
   "name": "python",
   "nbconvert_exporter": "python",
   "pygments_lexer": "ipython3",
   "version": "3.12.5"
  }
 },
 "nbformat": 4,
 "nbformat_minor": 5
}
