{
 "cells": [
  {
   "cell_type": "markdown",
   "id": "24d0293c-a4be-4464-b1a8-0930a1c7a66b",
   "metadata": {},
   "source": [
    "# ***Numpy***"
   ]
  },
  {
   "cell_type": "code",
   "execution_count": 1,
   "id": "3e36f89e-8f02-4872-8fdb-cd7b77cff879",
   "metadata": {},
   "outputs": [],
   "source": [
    "import numpy as np"
   ]
  },
  {
   "cell_type": "code",
   "execution_count": 2,
   "id": "b6d2d2e7-e0a7-4484-88f9-0a43b1e43f00",
   "metadata": {},
   "outputs": [
    {
     "data": {
      "text/plain": [
       "array([[ 3,  6, 32,  7]], dtype=int64)"
      ]
     },
     "execution_count": 2,
     "metadata": {},
     "output_type": "execute_result"
    }
   ],
   "source": [
    "#creating an simple array with the data type int64\n",
    "myarr = np.array([[3,6,32,7]], np.int64)\n",
    "myarr"
   ]
  },
  {
   "cell_type": "code",
   "execution_count": 3,
   "id": "b459e0d7-1fb8-4598-9921-29eab45741ef",
   "metadata": {},
   "outputs": [
    {
     "data": {
      "text/plain": [
       "6"
      ]
     },
     "execution_count": 3,
     "metadata": {},
     "output_type": "execute_result"
    }
   ],
   "source": [
    "#Accessing the array element\n",
    "myarr[0,1]"
   ]
  },
  {
   "cell_type": "code",
   "execution_count": 4,
   "id": "4d55b4ba-ed47-4c73-8798-6a0277fd20b3",
   "metadata": {},
   "outputs": [
    {
     "data": {
      "text/plain": [
       "(1, 4)"
      ]
     },
     "execution_count": 4,
     "metadata": {},
     "output_type": "execute_result"
    }
   ],
   "source": [
    "#To learn structure of array we can use\n",
    "myarr.shape"
   ]
  },
  {
   "cell_type": "code",
   "execution_count": 5,
   "id": "35a7a790-1fe8-40b1-bb18-da8a22c0b169",
   "metadata": {},
   "outputs": [
    {
     "data": {
      "text/plain": [
       "dtype('int64')"
      ]
     },
     "execution_count": 5,
     "metadata": {},
     "output_type": "execute_result"
    }
   ],
   "source": [
    "#To print the type of the data\n",
    "myarr.dtype"
   ]
  },
  {
   "cell_type": "code",
   "execution_count": 6,
   "id": "3850a5e5-ccc1-4788-9f66-affd6554661d",
   "metadata": {},
   "outputs": [
    {
     "data": {
      "text/plain": [
       "array([[ 3, 45, 32,  7]], dtype=int64)"
      ]
     },
     "execution_count": 6,
     "metadata": {},
     "output_type": "execute_result"
    }
   ],
   "source": [
    "#Assigning the value to the specified index\n",
    "myarr[0,1]=45\n",
    "\n",
    "myarr"
   ]
  },
  {
   "cell_type": "markdown",
   "id": "4fadf8df-d7c9-4b2e-b9ae-22e8cda8390a",
   "metadata": {},
   "source": [
    "### Array Creation Methods"
   ]
  },
  {
   "cell_type": "markdown",
   "id": "f25edcfe-b1f4-4176-a636-df718f1d15f2",
   "metadata": {},
   "source": [
    "#### 1. Conversion from other Python Structures :\n",
    "\n",
    "           -> Creating an array using python's list or tuples"
   ]
  },
  {
   "cell_type": "code",
   "execution_count": 7,
   "id": "475160da-0535-447f-bfb9-82c1ec261bda",
   "metadata": {},
   "outputs": [
    {
     "data": {
      "text/plain": [
       "array([[1, 2, 3],\n",
       "       [5, 8, 5],\n",
       "       [0, 3, 1]])"
      ]
     },
     "execution_count": 7,
     "metadata": {},
     "output_type": "execute_result"
    }
   ],
   "source": [
    "#using List\n",
    "listarr = np.array([[1,2,3],[5,8,5],[0,3,1]])\n",
    "listarr"
   ]
  },
  {
   "cell_type": "code",
   "execution_count": 8,
   "id": "de79c609-0fdb-469f-b607-998ac33a2cfb",
   "metadata": {},
   "outputs": [
    {
     "data": {
      "text/plain": [
       "dtype('int32')"
      ]
     },
     "execution_count": 8,
     "metadata": {},
     "output_type": "execute_result"
    }
   ],
   "source": [
    "#To get the type of Data\n",
    "listarr.dtype"
   ]
  },
  {
   "cell_type": "code",
   "execution_count": 9,
   "id": "0a1b1255-5188-4577-8a9f-2aa438bb68c9",
   "metadata": {},
   "outputs": [
    {
     "data": {
      "text/plain": [
       "(3, 3)"
      ]
     },
     "execution_count": 9,
     "metadata": {},
     "output_type": "execute_result"
    }
   ],
   "source": [
    "#To know the Structure of Array\n",
    "listarr.shape"
   ]
  },
  {
   "cell_type": "code",
   "execution_count": 10,
   "id": "2f0ebe63-c29e-4ab3-8581-b8a0fb078fb6",
   "metadata": {},
   "outputs": [
    {
     "data": {
      "text/plain": [
       "9"
      ]
     },
     "execution_count": 10,
     "metadata": {},
     "output_type": "execute_result"
    }
   ],
   "source": [
    "#To get the total size of the Array\n",
    "listarr.size"
   ]
  },
  {
   "cell_type": "code",
   "execution_count": 11,
   "id": "bd299926-79b5-40a8-98d1-9083207aa02a",
   "metadata": {},
   "outputs": [
    {
     "data": {
      "text/plain": [
       "array({34, 22, 23}, dtype=object)"
      ]
     },
     "execution_count": 11,
     "metadata": {},
     "output_type": "execute_result"
    }
   ],
   "source": [
    "np.array({34,23,22})\n",
    "#Object types are mainly avoided for performing the any numericals!"
   ]
  },
  {
   "cell_type": "markdown",
   "id": "f5372c52-ee37-4019-a61b-4752109f816a",
   "metadata": {},
   "source": [
    "#### 2. Intrinsic numpy array creation Objects:\n",
    "            -> Numpy functions for creating the array (e.g., arange,ones,zeros,etc.)"
   ]
  },
  {
   "cell_type": "markdown",
   "id": "847aeddc-f08f-419b-af39-964323e5b186",
   "metadata": {},
   "source": [
    "**1.   Zeros :**"
   ]
  },
  {
   "cell_type": "code",
   "execution_count": 12,
   "id": "edb35784-d76e-4320-8589-32e6c9fcffaf",
   "metadata": {},
   "outputs": [
    {
     "data": {
      "text/plain": [
       "array([[0., 0., 0., 0., 0.],\n",
       "       [0., 0., 0., 0., 0.]])"
      ]
     },
     "execution_count": 12,
     "metadata": {},
     "output_type": "execute_result"
    }
   ],
   "source": [
    "#It is used to create an array of 2 Rows and 5 Columns with Zero as Values\n",
    "zeros = np.zeros((2,5))\n",
    "\n",
    "zeros"
   ]
  },
  {
   "cell_type": "markdown",
   "id": "0efdf2df-6018-45ae-a518-d0c566ba52ea",
   "metadata": {},
   "source": [
    "**2. ARange :**"
   ]
  },
  {
   "cell_type": "code",
   "execution_count": 13,
   "id": "d042f4d0-c068-4c36-b716-1d6e76dcc177",
   "metadata": {},
   "outputs": [
    {
     "data": {
      "text/plain": [
       "array([ 0,  1,  2,  3,  4,  5,  6,  7,  8,  9, 10, 11, 12, 13, 14])"
      ]
     },
     "execution_count": 13,
     "metadata": {},
     "output_type": "execute_result"
    }
   ],
   "source": [
    "#It is used to create an array by the given range\n",
    "rng = np.arange(15) # creates an array of range 15\n",
    "\n",
    "rng"
   ]
  },
  {
   "cell_type": "markdown",
   "id": "7f019281-d9f1-4fa1-a449-fb65654df9f2",
   "metadata": {},
   "source": [
    "**3. Linspace :**"
   ]
  },
  {
   "cell_type": "code",
   "execution_count": 14,
   "id": "bc439abc-03d1-42bd-a6c1-8457f3b9cbf9",
   "metadata": {},
   "outputs": [
    {
     "data": {
      "text/plain": [
       "array([ 1.        ,  6.44444444, 11.88888889, 17.33333333, 22.77777778,\n",
       "       28.22222222, 33.66666667, 39.11111111, 44.55555556, 50.        ])"
      ]
     },
     "execution_count": 14,
     "metadata": {},
     "output_type": "execute_result"
    }
   ],
   "source": [
    "#It is used to equally spaced {divide} the range in the given input obj.linspace(from,To,Number of Parts to be devide)\n",
    "lspace = np.linspace(1,50,10) #dividing the range 1 to 5 in 12 equal parts!\n",
    "\n",
    "lspace"
   ]
  },
  {
   "cell_type": "markdown",
   "id": "202db05d-4cdc-4019-869d-fe41cc6b9868",
   "metadata": {},
   "source": [
    "**4. Empty :**"
   ]
  },
  {
   "cell_type": "code",
   "execution_count": 15,
   "id": "e136bafa-7af3-4310-941a-79d2da84a1e9",
   "metadata": {},
   "outputs": [
    {
     "data": {
      "text/plain": [
       "array([[6.23042070e-307, 4.67296746e-307, 1.69121096e-306,\n",
       "        7.56597770e-307, 1.89146896e-307, 7.56571288e-307],\n",
       "       [3.11525958e-307, 1.24610723e-306, 1.37962320e-306,\n",
       "        1.29060871e-306, 2.22518251e-306, 1.33511969e-306],\n",
       "       [1.78022342e-306, 1.05700345e-307, 3.11525958e-307,\n",
       "        1.69118108e-306, 8.06632139e-308, 1.20160711e-306],\n",
       "       [1.69119330e-306, 1.29062229e-306, 1.29060531e-306,\n",
       "        2.13620807e-306, 1.69118787e-306, 2.56765117e-312]])"
      ]
     },
     "execution_count": 15,
     "metadata": {},
     "output_type": "execute_result"
    }
   ],
   "source": [
    "#It creates an array with totally random array values\n",
    "emp = np.empty((4,6))\n",
    "\n",
    "emp"
   ]
  },
  {
   "cell_type": "markdown",
   "id": "1b2f1575-d61d-4715-b343-4fe5838d160b",
   "metadata": {},
   "source": [
    "**5. Empty_Like :**"
   ]
  },
  {
   "cell_type": "code",
   "execution_count": 16,
   "id": "08159a3b-bd2e-4a3d-8e99-c4c259930594",
   "metadata": {},
   "outputs": [
    {
     "data": {
      "text/plain": [
       "array([ 1.        ,  6.44444444, 11.88888889, 17.33333333, 22.77777778,\n",
       "       28.22222222, 33.66666667, 39.11111111, 44.55555556, 50.        ])"
      ]
     },
     "execution_count": 16,
     "metadata": {},
     "output_type": "execute_result"
    }
   ],
   "source": [
    "#It creates an empty array by using an already created array\n",
    "emp_like = np.empty_like(lspace)\n",
    "#we can modify thevalues as we like!\n",
    "emp_like"
   ]
  },
  {
   "cell_type": "markdown",
   "id": "6318e035-1f1f-4eff-8dba-741a8ceca6ad",
   "metadata": {},
   "source": [
    "**6. Identity :**"
   ]
  },
  {
   "cell_type": "code",
   "execution_count": 17,
   "id": "10bb217f-9622-4e64-b853-eafacac30515",
   "metadata": {},
   "outputs": [
    {
     "data": {
      "text/plain": [
       "array([[1., 0., 0.],\n",
       "       [0., 1., 0.],\n",
       "       [0., 0., 1.]])"
      ]
     },
     "execution_count": 17,
     "metadata": {},
     "output_type": "execute_result"
    }
   ],
   "source": [
    "#It creates an identity matrix of given N\n",
    "ide = np.identity(3)\n",
    "\n",
    "ide"
   ]
  },
  {
   "cell_type": "markdown",
   "id": "db9ceb7c-6b43-4974-bbae-eda437cdea5e",
   "metadata": {},
   "source": [
    "**7. Full :**"
   ]
  },
  {
   "cell_type": "code",
   "execution_count": 18,
   "id": "e411e631-617e-4286-84d6-133066ce81b0",
   "metadata": {},
   "outputs": [
    {
     "data": {
      "text/plain": [
       "array([6, 6, 6, 6, 6, 6, 6, 6, 6, 6])"
      ]
     },
     "execution_count": 18,
     "metadata": {},
     "output_type": "execute_result"
    }
   ],
   "source": [
    "#It creates an array with the fixed value for all the range\n",
    "\n",
    "#single Dimensional\n",
    "np1 = np.full((10),6)\n",
    "\n",
    "np1\n"
   ]
  },
  {
   "cell_type": "code",
   "execution_count": 19,
   "id": "5cc4e3f6-c6e6-4143-9e4a-3a4abe6179b2",
   "metadata": {},
   "outputs": [
    {
     "data": {
      "text/plain": [
       "array([[7, 7, 7, 7],\n",
       "       [7, 7, 7, 7],\n",
       "       [7, 7, 7, 7],\n",
       "       [7, 7, 7, 7],\n",
       "       [7, 7, 7, 7]])"
      ]
     },
     "execution_count": 19,
     "metadata": {},
     "output_type": "execute_result"
    }
   ],
   "source": [
    "#Multi Dimensional\n",
    "np2 = np.full((5,4),7)\n",
    "\n",
    "np2"
   ]
  },
  {
   "cell_type": "code",
   "execution_count": null,
   "id": "c9375cbf-62e7-47c8-a0ed-d03c3badc0a1",
   "metadata": {},
   "outputs": [],
   "source": []
  }
 ],
 "metadata": {
  "kernelspec": {
   "display_name": "Python 3 (ipykernel)",
   "language": "python",
   "name": "python3"
  },
  "language_info": {
   "codemirror_mode": {
    "name": "ipython",
    "version": 3
   },
   "file_extension": ".py",
   "mimetype": "text/x-python",
   "name": "python",
   "nbconvert_exporter": "python",
   "pygments_lexer": "ipython3",
   "version": "3.12.5"
  }
 },
 "nbformat": 4,
 "nbformat_minor": 5
}
