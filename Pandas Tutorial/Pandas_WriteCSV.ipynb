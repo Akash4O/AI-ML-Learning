{
 "cells": [
  {
   "cell_type": "markdown",
   "id": "5f3c6dc9-8bf8-4f3f-819a-915441324dd5",
   "metadata": {},
   "source": [
    "# CSV Operations!"
   ]
  },
  {
   "cell_type": "markdown",
   "id": "ecd27074-9256-481d-9806-ace8054ebe68",
   "metadata": {},
   "source": [
    "#### Write CSV"
   ]
  },
  {
   "cell_type": "code",
   "execution_count": 3,
   "id": "eb63c2ba-e9da-4f8e-8560-0d0d30c6f814",
   "metadata": {},
   "outputs": [
    {
     "name": "stdout",
     "output_type": "stream",
     "text": [
      "   A  B  C\n",
      "0  1  1  1\n",
      "1  2  2  2\n",
      "2  3  3  3\n",
      "3  4  4  4\n",
      "4  5  5  5\n",
      "5  6  6  6\n"
     ]
    }
   ],
   "source": [
    "import pandas as pd\n",
    "\n",
    "dis={\"A\":[1,2,3,4,5,6],\"B\":[1,2,3,4,5,6],\"C\":[1,2,3,4,5,6]}\n",
    "\n",
    "d = pd.DataFrame(dis)\n",
    "\n",
    "print(d)\n",
    "\n",
    "d.to_csv(\"Test_new1.csv\",index=False)"
   ]
  },
  {
   "cell_type": "code",
   "execution_count": 5,
   "id": "a43b87e0-6b94-4e30-86fe-fc1aaa576c29",
   "metadata": {},
   "outputs": [
    {
     "name": "stdout",
     "output_type": "stream",
     "text": [
      "   A  B  C\n",
      "0  1  1  1\n",
      "1  2  2  2\n",
      "2  3  3  3\n",
      "3  4  4  4\n",
      "4  5  5  5\n",
      "5  6  6  6\n"
     ]
    }
   ],
   "source": [
    "dis={\"A\":[1,2,3,4,5,6],\"B\":[1,2,3,4,5,6],\"C\":[1,2,3,4,5,6]}\n",
    "\n",
    "d = pd.DataFrame(dis)\n",
    "\n",
    "print(d)\n",
    "\n",
    "d.to_csv(\"Test_new2.csv\",index=False,header=[\"A1\",\"B1\",\"C1\"])"
   ]
  }
 ],
 "metadata": {
  "kernelspec": {
   "display_name": "Python 3 (ipykernel)",
   "language": "python",
   "name": "python3"
  },
  "language_info": {
   "codemirror_mode": {
    "name": "ipython",
    "version": 3
   },
   "file_extension": ".py",
   "mimetype": "text/x-python",
   "name": "python",
   "nbconvert_exporter": "python",
   "pygments_lexer": "ipython3",
   "version": "3.12.5"
  }
 },
 "nbformat": 4,
 "nbformat_minor": 5
}
