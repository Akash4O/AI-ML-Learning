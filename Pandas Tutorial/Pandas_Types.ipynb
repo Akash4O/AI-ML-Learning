{
 "cells": [
  {
   "cell_type": "markdown",
   "metadata": {},
   "source": [
    "# Types Of DataStructure Pandas:"
   ]
  },
  {
   "cell_type": "markdown",
   "metadata": {},
   "source": [
    "## Series"
   ]
  },
  {
   "cell_type": "markdown",
   "metadata": {},
   "source": [
    "#### Simple Pandas Series Usage"
   ]
  },
  {
   "cell_type": "code",
   "execution_count": 11,
   "metadata": {},
   "outputs": [
    {
     "name": "stdout",
     "output_type": "stream",
     "text": [
      "a    3.0\n",
      "s    4.0\n",
      "d    5.0\n",
      "f    6.0\n",
      "Name: Python, dtype: float64\n",
      "<class 'pandas.core.series.Series'>\n",
      "4.0\n"
     ]
    }
   ],
   "source": [
    "import pandas as pd\n",
    "\n",
    "x=[3,4,5,6]\n",
    "\n",
    "var = pd.Series(x,index=['a','s','d','f'],dtype='float',name=\"Python\")\n",
    "\n",
    "print(var)\n",
    "print(type(var))\n",
    "print(var['s'])"
   ]
  },
  {
   "cell_type": "markdown",
   "metadata": {},
   "source": [
    "#### Series using Dictionary!"
   ]
  },
  {
   "cell_type": "code",
   "execution_count": 13,
   "metadata": {},
   "outputs": [
    {
     "name": "stdout",
     "output_type": "stream",
     "text": [
      "name    [Python, c++, c, Java]\n",
      "por           [12, 13, 14, 15]\n",
      "rank              [1, 4, 3, 2]\n",
      "dtype: object\n"
     ]
    }
   ],
   "source": [
    "dic = {\"name\":[\"Python\",\"c++\",\"c\",\"Java\"],\"por\":[12,13,14,15],\"rank\":[1,4,3,2]}\n",
    "\n",
    "var1=pd.Series(dic)\n",
    "print(var1)\n"
   ]
  },
  {
   "cell_type": "markdown",
   "metadata": {},
   "source": [
    "#### Series One Value for all the Index values!"
   ]
  },
  {
   "cell_type": "code",
   "execution_count": 16,
   "metadata": {},
   "outputs": [
    {
     "name": "stdout",
     "output_type": "stream",
     "text": [
      "1    12\n",
      "2    12\n",
      "3    12\n",
      "4    12\n",
      "5    12\n",
      "6    12\n",
      "7    12\n",
      "dtype: int64\n",
      "<class 'pandas.core.series.Series'>\n"
     ]
    }
   ],
   "source": [
    "s = pd.Series(12,index=[1,2,3,4,5,6,7])\n",
    "print(s)\n",
    "print(type(s))"
   ]
  },
  {
   "cell_type": "markdown",
   "metadata": {},
   "source": [
    "#### Series Concatinating 2 Serieses"
   ]
  },
  {
   "cell_type": "code",
   "execution_count": 18,
   "metadata": {},
   "outputs": [
    {
     "name": "stdout",
     "output_type": "stream",
     "text": [
      "1    24.0\n",
      "2    24.0\n",
      "3    24.0\n",
      "4    24.0\n",
      "5     NaN\n",
      "6     NaN\n",
      "7     NaN\n",
      "dtype: float64\n"
     ]
    }
   ],
   "source": [
    "s1 = pd.Series(12,index=[1,2,3,4,5,6,7])\n",
    "s2 = pd.Series(12,index=[1,2,3,4])\n",
    "\n",
    "print(s1+s2)"
   ]
  },
  {
   "cell_type": "markdown",
   "metadata": {},
   "source": [
    "## DataFrame"
   ]
  },
  {
   "cell_type": "markdown",
   "metadata": {},
   "source": [
    "#### Data Frame using List!"
   ]
  },
  {
   "cell_type": "code",
   "execution_count": 24,
   "metadata": {},
   "outputs": [
    {
     "name": "stdout",
     "output_type": "stream",
     "text": [
      "   0\n",
      "0  1\n",
      "1  2\n",
      "2  3\n",
      "3  4\n",
      "4  5\n",
      "5  6\n",
      "<class 'pandas.core.frame.DataFrame'>\n"
     ]
    }
   ],
   "source": [
    "import pandas as pd\n",
    "\n",
    "l = [1,2,3,4,5,6]\n",
    "\n",
    "var = pd.DataFrame(l)\n",
    "\n",
    "print(var)\n",
    "print(type(var))"
   ]
  },
  {
   "cell_type": "markdown",
   "metadata": {},
   "source": [
    "#### DataFrame Using Dictionary!"
   ]
  },
  {
   "cell_type": "code",
   "execution_count": 46,
   "metadata": {},
   "outputs": [
    {
     "name": "stdout",
     "output_type": "stream",
     "text": [
      "       name  rank\n",
      "p    Python     1\n",
      "cpp     c++     4\n",
      "c         c     3\n",
      "j      Java     2\n",
      "<class 'pandas.core.frame.DataFrame'>\n",
      "Python\n"
     ]
    }
   ],
   "source": [
    "dic1 = {\"name\":[\"Python\",\"c++\",\"c\",\"Java\"],\"por\":[12,13,14,15],\"rank\":[1,4,3,2]}\n",
    "\n",
    "var1 = pd.DataFrame(dic1,columns=[\"name\",\"rank\"],index=['p','cpp','c','j'])\n",
    "\n",
    "print(var1)\n",
    "print(type(var1))\n",
    "print(var1[\"name\"]['p'])"
   ]
  },
  {
   "cell_type": "markdown",
   "metadata": {},
   "source": [
    "#### DataFrame using ListOfLists"
   ]
  },
  {
   "cell_type": "code",
   "execution_count": 50,
   "metadata": {},
   "outputs": [
    {
     "name": "stdout",
     "output_type": "stream",
     "text": [
      "     0   1   2   3   4\n",
      "l1   1   2   3   4   5\n",
      "l2   6   7   8   9  10\n",
      "l3  11  12  13  14  15\n",
      "l4  16  17  18  19  20\n",
      "19\n"
     ]
    }
   ],
   "source": [
    "list1 = [[1,2,3,4,5],[6,7,8,9,10],[11,12,13,14,15],[16,17,18,19,20]]\n",
    "\n",
    "var2 = pd.DataFrame(list1,index=['l1','l2','l3','l4'])\n",
    "\n",
    "print(var2)\n",
    "print(var2[3]['l4'])"
   ]
  },
  {
   "cell_type": "markdown",
   "metadata": {},
   "source": [
    "#### DataFrame Using Series"
   ]
  },
  {
   "cell_type": "code",
   "execution_count": 59,
   "metadata": {},
   "outputs": [
    {
     "name": "stdout",
     "output_type": "stream",
     "text": [
      "   s     d\n",
      "0  1   7.0\n",
      "1  2   8.0\n",
      "2  3   9.0\n",
      "3  4  10.0\n",
      "4  5  11.0\n",
      "5  6   NaN\n",
      "<class 'pandas.core.frame.DataFrame'>\n",
      "\n",
      "Index Specific Value :  9.0\n"
     ]
    }
   ],
   "source": [
    "sr = {\"s\":pd.Series([1,2,3,4,5,6]),\"d\":pd.Series([7,8,9,10,11])}\n",
    "\n",
    "var3 = pd.DataFrame(sr)\n",
    "\n",
    "print(var3)\n",
    "\n",
    "print(type(var3))\n",
    "\n",
    "print(\"\\nIndex Specific Value : \",var3[\"d\"][2])"
   ]
  }
 ],
 "metadata": {
  "kernelspec": {
   "display_name": "Python 3 (ipykernel)",
   "language": "python",
   "name": "python3"
  },
  "language_info": {
   "codemirror_mode": {
    "name": "ipython",
    "version": 3
   },
   "file_extension": ".py",
   "mimetype": "text/x-python",
   "name": "python",
   "nbconvert_exporter": "python",
   "pygments_lexer": "ipython3",
   "version": "3.12.5"
  }
 },
 "nbformat": 4,
 "nbformat_minor": 4
}
