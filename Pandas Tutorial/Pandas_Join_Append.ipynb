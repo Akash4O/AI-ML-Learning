{
 "cells": [
  {
   "cell_type": "markdown",
   "id": "195b54de-bff0-4f44-9c9c-38627064a4ff",
   "metadata": {},
   "source": [
    "# Join"
   ]
  },
  {
   "cell_type": "code",
   "execution_count": 25,
   "id": "d519c04a-ea68-48b2-a8bc-779fa6865b37",
   "metadata": {},
   "outputs": [
    {
     "data": {
      "text/html": [
       "<div>\n",
       "<style scoped>\n",
       "    .dataframe tbody tr th:only-of-type {\n",
       "        vertical-align: middle;\n",
       "    }\n",
       "\n",
       "    .dataframe tbody tr th {\n",
       "        vertical-align: top;\n",
       "    }\n",
       "\n",
       "    .dataframe thead th {\n",
       "        text-align: right;\n",
       "    }\n",
       "</style>\n",
       "<table border=\"1\" class=\"dataframe\">\n",
       "  <thead>\n",
       "    <tr style=\"text-align: right;\">\n",
       "      <th></th>\n",
       "      <th>C</th>\n",
       "      <th>B12</th>\n",
       "      <th>A</th>\n",
       "      <th>B12</th>\n",
       "    </tr>\n",
       "  </thead>\n",
       "  <tbody>\n",
       "    <tr>\n",
       "      <th>a</th>\n",
       "      <td>11.0</td>\n",
       "      <td>51.0</td>\n",
       "      <td>1</td>\n",
       "      <td>5</td>\n",
       "    </tr>\n",
       "    <tr>\n",
       "      <th>b</th>\n",
       "      <td>21.0</td>\n",
       "      <td>61.0</td>\n",
       "      <td>2</td>\n",
       "      <td>6</td>\n",
       "    </tr>\n",
       "    <tr>\n",
       "      <th>c</th>\n",
       "      <td>NaN</td>\n",
       "      <td>NaN</td>\n",
       "      <td>3</td>\n",
       "      <td>7</td>\n",
       "    </tr>\n",
       "    <tr>\n",
       "      <th>d</th>\n",
       "      <td>NaN</td>\n",
       "      <td>NaN</td>\n",
       "      <td>4</td>\n",
       "      <td>8</td>\n",
       "    </tr>\n",
       "  </tbody>\n",
       "</table>\n",
       "</div>"
      ],
      "text/plain": [
       "      C   B12  A  B12\n",
       "a  11.0  51.0  1    5\n",
       "b  21.0  61.0  2    6\n",
       "c   NaN   NaN  3    7\n",
       "d   NaN   NaN  4    8"
      ]
     },
     "execution_count": 25,
     "metadata": {},
     "output_type": "execute_result"
    }
   ],
   "source": [
    "import pandas as pd\n",
    "\n",
    "var1 = pd.DataFrame({\"A\":[1,2,3,4],\"B\":[5,6,7,8]},index=[\"a\",\"b\",\"c\",\"d\"])\n",
    "var2 = pd.DataFrame({\"C\":[11,21],\"B\":[51,61]},index=[\"a\",\"b\"])\n",
    "\n",
    "var2.join(var1,lsuffix=\"12\",rsuffix=\"12\",how=\"outer\")"
   ]
  },
  {
   "cell_type": "markdown",
   "id": "c1e460d7-a38d-4710-8e74-c19bc8d26968",
   "metadata": {},
   "source": [
    "# Append"
   ]
  },
  {
   "cell_type": "code",
   "execution_count": 27,
   "id": "760fa6c3-60ac-4ff5-b394-5998bba0c908",
   "metadata": {},
   "outputs": [],
   "source": [
    "var1 = pd.DataFrame({\"A\":[1,2,3,4],\"B\":[5,6,7,8]},index=[\"a\",\"b\",\"c\",\"d\"])\n",
    "var2 = pd.DataFrame({\"C\":[11,21],\"B\":[51,61]},index=[\"a\",\"b\"])\n",
    "\n",
    "#append has been removed from DataFrame now!"
   ]
  },
  {
   "cell_type": "code",
   "execution_count": null,
   "id": "0798304b-6cfc-4a23-97ef-d018749bc96a",
   "metadata": {},
   "outputs": [],
   "source": []
  }
 ],
 "metadata": {
  "kernelspec": {
   "display_name": "Python 3 (ipykernel)",
   "language": "python",
   "name": "python3"
  },
  "language_info": {
   "codemirror_mode": {
    "name": "ipython",
    "version": 3
   },
   "file_extension": ".py",
   "mimetype": "text/x-python",
   "name": "python",
   "nbconvert_exporter": "python",
   "pygments_lexer": "ipython3",
   "version": "3.12.5"
  }
 },
 "nbformat": 4,
 "nbformat_minor": 5
}
