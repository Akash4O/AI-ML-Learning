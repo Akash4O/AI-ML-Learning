{
 "cells": [
  {
   "cell_type": "markdown",
   "id": "2409beae-9d35-4d0c-9cda-c5de5173d8d4",
   "metadata": {},
   "source": [
    "# Arithmetic Operations Pandas"
   ]
  },
  {
   "cell_type": "code",
   "execution_count": 3,
   "id": "f6cac786-a52a-437a-900f-7400e8119be8",
   "metadata": {},
   "outputs": [
    {
     "name": "stdout",
     "output_type": "stream",
     "text": [
      "   A  B\n",
      "0  1  5\n",
      "1  2  6\n",
      "2  3  7\n",
      "3  4  8\n"
     ]
    }
   ],
   "source": [
    "import pandas as pd\n",
    "\n",
    "var=pd.DataFrame({\"A\":[1,2,3,4],\"B\":[5,6,7,8]})\n",
    "\n",
    "print(var)"
   ]
  },
  {
   "cell_type": "markdown",
   "id": "4ce451ef-16ef-4a8f-9c04-b32d8b3ae09c",
   "metadata": {},
   "source": [
    "#### Addition Of 2 columns"
   ]
  },
  {
   "cell_type": "code",
   "execution_count": 13,
   "id": "17d7f000-31be-4edf-89b5-ddf7c0f86d09",
   "metadata": {},
   "outputs": [
    {
     "name": "stdout",
     "output_type": "stream",
     "text": [
      "   A  B   C  D   E         F       DIV  MUL  SUB  SUM\n",
      "0  1  5   6 -4   5  0.200000  0.200000    5   -4    6\n",
      "1  2  6   8 -4  12  0.333333  0.333333   12   -4    8\n",
      "2  3  7  10 -4  21  0.428571  0.428571   21   -4   10\n",
      "3  4  8  12 -4  32  0.500000  0.500000   32   -4   12\n"
     ]
    }
   ],
   "source": [
    "var[\"SUM\"] = var[\"A\"] + var[\"B\"]\n",
    "\n",
    "print(var)"
   ]
  },
  {
   "cell_type": "markdown",
   "id": "3c8f2298-b31a-42c2-a30d-6812238753c4",
   "metadata": {},
   "source": [
    "#### Substraction of 2 columns"
   ]
  },
  {
   "cell_type": "code",
   "execution_count": 12,
   "id": "5097ce30-6f6a-42a9-af86-44535710082f",
   "metadata": {},
   "outputs": [
    {
     "name": "stdout",
     "output_type": "stream",
     "text": [
      "   A  B   C  D   E         F       DIV  MUL  SUB\n",
      "0  1  5   6 -4   5  0.200000  0.200000    5   -4\n",
      "1  2  6   8 -4  12  0.333333  0.333333   12   -4\n",
      "2  3  7  10 -4  21  0.428571  0.428571   21   -4\n",
      "3  4  8  12 -4  32  0.500000  0.500000   32   -4\n"
     ]
    }
   ],
   "source": [
    "var[\"SUB\"] = var[\"A\"] - var[\"B\"]\n",
    "\n",
    "print(var)"
   ]
  },
  {
   "cell_type": "markdown",
   "id": "c6d7a22d-3ce2-4205-9a13-1a8823f127ac",
   "metadata": {},
   "source": [
    "#### Mutiplication of 2 Columns"
   ]
  },
  {
   "cell_type": "code",
   "execution_count": 10,
   "id": "ef0dfd31-f129-4b6b-be1f-d998b952af05",
   "metadata": {},
   "outputs": [
    {
     "name": "stdout",
     "output_type": "stream",
     "text": [
      "   A  B   C  D   E         F       DIV  MUL\n",
      "0  1  5   6 -4   5  0.200000  0.200000    5\n",
      "1  2  6   8 -4  12  0.333333  0.333333   12\n",
      "2  3  7  10 -4  21  0.428571  0.428571   21\n",
      "3  4  8  12 -4  32  0.500000  0.500000   32\n"
     ]
    }
   ],
   "source": [
    "var[\"MUL\"] = var[\"A\"] * var[\"B\"]\n",
    "\n",
    "print(var)"
   ]
  },
  {
   "cell_type": "markdown",
   "id": "91de3e99-e3d9-4581-beca-133d4a7ed856",
   "metadata": {},
   "source": [
    "#### Division of 2 columns"
   ]
  },
  {
   "cell_type": "code",
   "execution_count": 11,
   "id": "05f43496-690b-40cd-8845-bd9f92645e29",
   "metadata": {},
   "outputs": [
    {
     "name": "stdout",
     "output_type": "stream",
     "text": [
      "   A  B   C  D   E         F       DIV  MUL\n",
      "0  1  5   6 -4   5  0.200000  0.200000    5\n",
      "1  2  6   8 -4  12  0.333333  0.333333   12\n",
      "2  3  7  10 -4  21  0.428571  0.428571   21\n",
      "3  4  8  12 -4  32  0.500000  0.500000   32\n"
     ]
    }
   ],
   "source": [
    "var[\"DIV\"] = var[\"A\"] / var[\"B\"]\n",
    "\n",
    "print(var)"
   ]
  },
  {
   "cell_type": "markdown",
   "id": "dbe27185-e54b-4091-a721-03f491f848b8",
   "metadata": {},
   "source": [
    "#### Boolean Operation"
   ]
  },
  {
   "cell_type": "code",
   "execution_count": 17,
   "id": "5f70c2a6-1451-473f-a389-0ec4f0c68495",
   "metadata": {},
   "outputs": [
    {
     "data": {
      "text/html": [
       "<div>\n",
       "<style scoped>\n",
       "    .dataframe tbody tr th:only-of-type {\n",
       "        vertical-align: middle;\n",
       "    }\n",
       "\n",
       "    .dataframe tbody tr th {\n",
       "        vertical-align: top;\n",
       "    }\n",
       "\n",
       "    .dataframe thead th {\n",
       "        text-align: right;\n",
       "    }\n",
       "</style>\n",
       "<table border=\"1\" class=\"dataframe\">\n",
       "  <thead>\n",
       "    <tr style=\"text-align: right;\">\n",
       "      <th></th>\n",
       "      <th>A</th>\n",
       "      <th>B</th>\n",
       "      <th>Python</th>\n",
       "      <th>Python1</th>\n",
       "    </tr>\n",
       "  </thead>\n",
       "  <tbody>\n",
       "    <tr>\n",
       "      <th>0</th>\n",
       "      <td>10</td>\n",
       "      <td>15</td>\n",
       "      <td>True</td>\n",
       "      <td>False</td>\n",
       "    </tr>\n",
       "    <tr>\n",
       "      <th>1</th>\n",
       "      <td>20</td>\n",
       "      <td>16</td>\n",
       "      <td>True</td>\n",
       "      <td>True</td>\n",
       "    </tr>\n",
       "    <tr>\n",
       "      <th>2</th>\n",
       "      <td>30</td>\n",
       "      <td>17</td>\n",
       "      <td>False</td>\n",
       "      <td>True</td>\n",
       "    </tr>\n",
       "    <tr>\n",
       "      <th>3</th>\n",
       "      <td>40</td>\n",
       "      <td>18</td>\n",
       "      <td>False</td>\n",
       "      <td>True</td>\n",
       "    </tr>\n",
       "  </tbody>\n",
       "</table>\n",
       "</div>"
      ],
      "text/plain": [
       "    A   B  Python  Python1\n",
       "0  10  15    True    False\n",
       "1  20  16    True     True\n",
       "2  30  17   False     True\n",
       "3  40  18   False     True"
      ]
     },
     "execution_count": 17,
     "metadata": {},
     "output_type": "execute_result"
    }
   ],
   "source": [
    "var1=pd.DataFrame({\"A\":[10,20,30,40],\"B\":[15,16,17,18]})\n",
    "\n",
    "var1[\"Python\"] = var1[\"A\"] <= 20\n",
    "var1[\"Python1\"] = var1[\"B\"] >= 16\n",
    "var1"
   ]
  },
  {
   "cell_type": "code",
   "execution_count": null,
   "id": "c36afc2a-3b67-4112-9bfc-c13f34043cae",
   "metadata": {},
   "outputs": [],
   "source": []
  }
 ],
 "metadata": {
  "kernelspec": {
   "display_name": "Python 3 (ipykernel)",
   "language": "python",
   "name": "python3"
  },
  "language_info": {
   "codemirror_mode": {
    "name": "ipython",
    "version": 3
   },
   "file_extension": ".py",
   "mimetype": "text/x-python",
   "name": "python",
   "nbconvert_exporter": "python",
   "pygments_lexer": "ipython3",
   "version": "3.12.5"
  }
 },
 "nbformat": 4,
 "nbformat_minor": 5
}
